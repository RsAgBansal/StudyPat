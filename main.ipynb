{
 "cells": [
  {
   "cell_type": "code",
   "execution_count": 23,
   "metadata": {},
   "outputs": [
    {
     "data": {
      "text/html": [
       "<div>\n",
       "<style scoped>\n",
       "    .dataframe tbody tr th:only-of-type {\n",
       "        vertical-align: middle;\n",
       "    }\n",
       "\n",
       "    .dataframe tbody tr th {\n",
       "        vertical-align: top;\n",
       "    }\n",
       "\n",
       "    .dataframe thead th {\n",
       "        text-align: right;\n",
       "    }\n",
       "</style>\n",
       "<table border=\"1\" class=\"dataframe\">\n",
       "  <thead>\n",
       "    <tr style=\"text-align: right;\">\n",
       "      <th></th>\n",
       "      <th>Name</th>\n",
       "      <th>Roll Number</th>\n",
       "      <th>Branch</th>\n",
       "      <th>Year</th>\n",
       "      <th>Before</th>\n",
       "      <th>During</th>\n",
       "      <th>Study_Method</th>\n",
       "      <th>Environment</th>\n",
       "      <th>CGPA</th>\n",
       "    </tr>\n",
       "  </thead>\n",
       "  <tbody>\n",
       "    <tr>\n",
       "      <th>0</th>\n",
       "      <td>Ani</td>\n",
       "      <td>BTECH/11026/23</td>\n",
       "      <td>PRODUCTION</td>\n",
       "      <td>K23</td>\n",
       "      <td>23.0</td>\n",
       "      <td>8.147727</td>\n",
       "      <td>Solo(Offline via books and lecture notes), Cla...</td>\n",
       "      <td>Library</td>\n",
       "      <td>7.2</td>\n",
       "    </tr>\n",
       "    <tr>\n",
       "      <th>1</th>\n",
       "      <td>Ankit Kumar</td>\n",
       "      <td>BTech/10233/24</td>\n",
       "      <td>CSE</td>\n",
       "      <td>K24</td>\n",
       "      <td>8.0</td>\n",
       "      <td>8.000000</td>\n",
       "      <td>Solo(Online via video lectures)</td>\n",
       "      <td>Library</td>\n",
       "      <td>9.2</td>\n",
       "    </tr>\n",
       "    <tr>\n",
       "      <th>2</th>\n",
       "      <td>Tathya Varma</td>\n",
       "      <td>btech1080024</td>\n",
       "      <td>AIML</td>\n",
       "      <td>K24</td>\n",
       "      <td>0.0</td>\n",
       "      <td>6.000000</td>\n",
       "      <td>Solo(Online via video lectures)</td>\n",
       "      <td>Room(Group Study)</td>\n",
       "      <td>7.8</td>\n",
       "    </tr>\n",
       "    <tr>\n",
       "      <th>3</th>\n",
       "      <td>Saubhagya Shashank</td>\n",
       "      <td>IED/10009/24</td>\n",
       "      <td>QEDS</td>\n",
       "      <td>K24</td>\n",
       "      <td>3.0</td>\n",
       "      <td>5.000000</td>\n",
       "      <td>Class lectures and notes only, Solo(Online via...</td>\n",
       "      <td>Room(Solo)</td>\n",
       "      <td>8.7</td>\n",
       "    </tr>\n",
       "    <tr>\n",
       "      <th>4</th>\n",
       "      <td>Pratyay Banerjee</td>\n",
       "      <td>39</td>\n",
       "      <td>CSE</td>\n",
       "      <td>K22</td>\n",
       "      <td>6.0</td>\n",
       "      <td>12.000000</td>\n",
       "      <td>Solo(Online via video lectures)</td>\n",
       "      <td>Room(Solo)</td>\n",
       "      <td>9.3</td>\n",
       "    </tr>\n",
       "  </tbody>\n",
       "</table>\n",
       "</div>"
      ],
      "text/plain": [
       "                  Name     Roll Number      Branch Year  Before     During  \\\n",
       "0                  Ani  BTECH/11026/23  PRODUCTION  K23    23.0   8.147727   \n",
       "1         Ankit Kumar   BTech/10233/24         CSE  K24     8.0   8.000000   \n",
       "2         Tathya Varma    btech1080024        AIML  K24     0.0   6.000000   \n",
       "3  Saubhagya Shashank     IED/10009/24        QEDS  K24     3.0   5.000000   \n",
       "4    Pratyay Banerjee               39         CSE  K22     6.0  12.000000   \n",
       "\n",
       "                                        Study_Method        Environment CGPA  \n",
       "0  Solo(Offline via books and lecture notes), Cla...            Library  7.2  \n",
       "1                    Solo(Online via video lectures)            Library  9.2  \n",
       "2                    Solo(Online via video lectures)  Room(Group Study)  7.8  \n",
       "3  Class lectures and notes only, Solo(Online via...         Room(Solo)  8.7  \n",
       "4                    Solo(Online via video lectures)         Room(Solo)  9.3  "
      ]
     },
     "execution_count": 23,
     "metadata": {},
     "output_type": "execute_result"
    }
   ],
   "source": [
    "with open(\"form.csv\", 'r') as f:\n",
    "    lines = f.readlines()\n",
    "\n",
    "# Step 2: Remove trailing commas from each line\n",
    "cleaned_lines = [line.rstrip(',\\n') + '\\n' for line in lines]\n",
    "\n",
    "# Step 3: Save cleaned lines to a new file\n",
    "with open(\"form2.csv\", 'w') as f:\n",
    "    f.writelines(cleaned_lines)\n",
    "\n",
    "import pandas as pd\n",
    "df = pd.read_csv(\"form2.csv\")\n",
    "df = df.iloc[:, 1:]\n",
    "df.head()\n"
   ]
  },
  {
   "cell_type": "code",
   "execution_count": 24,
   "metadata": {},
   "outputs": [],
   "source": [
    "# df['Study strategy followed by you:-'] = df['Study strategy followed by you:-'].replace({'Solo(Offline via books and lecture notes)':0, 'Class lectures and notes only':1, 'Solo(Online via video lectures)':2})\n",
    "# df.head(15)"
   ]
  },
  {
   "cell_type": "code",
   "execution_count": 25,
   "metadata": {},
   "outputs": [
    {
     "name": "stdout",
     "output_type": "stream",
     "text": [
      "Final shape after encoding: (111, 16)\n"
     ]
    },
    {
     "data": {
      "text/html": [
       "<div>\n",
       "<style scoped>\n",
       "    .dataframe tbody tr th:only-of-type {\n",
       "        vertical-align: middle;\n",
       "    }\n",
       "\n",
       "    .dataframe tbody tr th {\n",
       "        vertical-align: top;\n",
       "    }\n",
       "\n",
       "    .dataframe thead th {\n",
       "        text-align: right;\n",
       "    }\n",
       "</style>\n",
       "<table border=\"1\" class=\"dataframe\">\n",
       "  <thead>\n",
       "    <tr style=\"text-align: right;\">\n",
       "      <th></th>\n",
       "      <th>Name</th>\n",
       "      <th>Roll Number</th>\n",
       "      <th>Branch</th>\n",
       "      <th>Year</th>\n",
       "      <th>Before</th>\n",
       "      <th>During</th>\n",
       "      <th>Environment</th>\n",
       "      <th>CGPA</th>\n",
       "      <th>Study_Method_</th>\n",
       "      <th>Study_Method_Class lectures and notes only</th>\n",
       "      <th>Study_Method_Friend teaches me</th>\n",
       "      <th>Study_Method_I prefer both class notes</th>\n",
       "      <th>Study_Method_No study strategy</th>\n",
       "      <th>Study_Method_Solo(Offline via books and lecture notes)</th>\n",
       "      <th>Study_Method_Solo(Online via video lectures)</th>\n",
       "      <th>Study_Method_solo study with online lectures when needed</th>\n",
       "    </tr>\n",
       "  </thead>\n",
       "  <tbody>\n",
       "    <tr>\n",
       "      <th>0</th>\n",
       "      <td>AniAniAni</td>\n",
       "      <td>BTECH/11026/23BTECH/11026/23BTECH/11026/23</td>\n",
       "      <td>PRODUCTIONPRODUCTIONPRODUCTION</td>\n",
       "      <td>K23K23K23</td>\n",
       "      <td>69.0</td>\n",
       "      <td>24.443182</td>\n",
       "      <td>LibraryLibraryLibrary</td>\n",
       "      <td>7.27.27.2</td>\n",
       "      <td>0</td>\n",
       "      <td>1</td>\n",
       "      <td>0</td>\n",
       "      <td>0</td>\n",
       "      <td>0</td>\n",
       "      <td>1</td>\n",
       "      <td>1</td>\n",
       "      <td>0</td>\n",
       "    </tr>\n",
       "    <tr>\n",
       "      <th>1</th>\n",
       "      <td>Ankit Kumar</td>\n",
       "      <td>BTech/10233/24</td>\n",
       "      <td>CSE</td>\n",
       "      <td>K24</td>\n",
       "      <td>8.0</td>\n",
       "      <td>8.000000</td>\n",
       "      <td>Library</td>\n",
       "      <td>9.2</td>\n",
       "      <td>0</td>\n",
       "      <td>0</td>\n",
       "      <td>0</td>\n",
       "      <td>0</td>\n",
       "      <td>0</td>\n",
       "      <td>0</td>\n",
       "      <td>1</td>\n",
       "      <td>0</td>\n",
       "    </tr>\n",
       "    <tr>\n",
       "      <th>2</th>\n",
       "      <td>Tathya Varma</td>\n",
       "      <td>btech1080024</td>\n",
       "      <td>AIML</td>\n",
       "      <td>K24</td>\n",
       "      <td>0.0</td>\n",
       "      <td>6.000000</td>\n",
       "      <td>Room(Group Study)</td>\n",
       "      <td>7.8</td>\n",
       "      <td>0</td>\n",
       "      <td>0</td>\n",
       "      <td>0</td>\n",
       "      <td>0</td>\n",
       "      <td>0</td>\n",
       "      <td>0</td>\n",
       "      <td>1</td>\n",
       "      <td>0</td>\n",
       "    </tr>\n",
       "    <tr>\n",
       "      <th>3</th>\n",
       "      <td>Saubhagya Shashank Saubhagya Shashank</td>\n",
       "      <td>IED/10009/24IED/10009/24</td>\n",
       "      <td>QEDSQEDS</td>\n",
       "      <td>K24K24</td>\n",
       "      <td>6.0</td>\n",
       "      <td>10.000000</td>\n",
       "      <td>Room(Solo)Room(Solo)</td>\n",
       "      <td>8.78.7</td>\n",
       "      <td>0</td>\n",
       "      <td>1</td>\n",
       "      <td>0</td>\n",
       "      <td>0</td>\n",
       "      <td>0</td>\n",
       "      <td>0</td>\n",
       "      <td>1</td>\n",
       "      <td>0</td>\n",
       "    </tr>\n",
       "    <tr>\n",
       "      <th>4</th>\n",
       "      <td>Pratyay Banerjee</td>\n",
       "      <td>39</td>\n",
       "      <td>CSE</td>\n",
       "      <td>K22</td>\n",
       "      <td>6.0</td>\n",
       "      <td>12.000000</td>\n",
       "      <td>Room(Solo)</td>\n",
       "      <td>9.3</td>\n",
       "      <td>0</td>\n",
       "      <td>0</td>\n",
       "      <td>0</td>\n",
       "      <td>0</td>\n",
       "      <td>0</td>\n",
       "      <td>0</td>\n",
       "      <td>1</td>\n",
       "      <td>0</td>\n",
       "    </tr>\n",
       "  </tbody>\n",
       "</table>\n",
       "</div>"
      ],
      "text/plain": [
       "                                     Name  \\\n",
       "0                               AniAniAni   \n",
       "1                            Ankit Kumar    \n",
       "2                            Tathya Varma   \n",
       "3  Saubhagya Shashank Saubhagya Shashank    \n",
       "4                       Pratyay Banerjee    \n",
       "\n",
       "                                  Roll Number                          Branch  \\\n",
       "0  BTECH/11026/23BTECH/11026/23BTECH/11026/23  PRODUCTIONPRODUCTIONPRODUCTION   \n",
       "1                              BTech/10233/24                             CSE   \n",
       "2                                btech1080024                            AIML   \n",
       "3                    IED/10009/24IED/10009/24                        QEDSQEDS   \n",
       "4                                          39                             CSE   \n",
       "\n",
       "        Year  Before     During            Environment       CGPA  \\\n",
       "0  K23K23K23    69.0  24.443182  LibraryLibraryLibrary  7.27.27.2   \n",
       "1        K24     8.0   8.000000                Library        9.2   \n",
       "2        K24     0.0   6.000000      Room(Group Study)        7.8   \n",
       "3     K24K24     6.0  10.000000   Room(Solo)Room(Solo)     8.78.7   \n",
       "4        K22     6.0  12.000000             Room(Solo)        9.3   \n",
       "\n",
       "   Study_Method_  Study_Method_Class lectures and notes only  \\\n",
       "0              0                                           1   \n",
       "1              0                                           0   \n",
       "2              0                                           0   \n",
       "3              0                                           1   \n",
       "4              0                                           0   \n",
       "\n",
       "   Study_Method_Friend teaches me  Study_Method_I prefer both class notes  \\\n",
       "0                               0                                       0   \n",
       "1                               0                                       0   \n",
       "2                               0                                       0   \n",
       "3                               0                                       0   \n",
       "4                               0                                       0   \n",
       "\n",
       "   Study_Method_No study strategy   \\\n",
       "0                                0   \n",
       "1                                0   \n",
       "2                                0   \n",
       "3                                0   \n",
       "4                                0   \n",
       "\n",
       "   Study_Method_Solo(Offline via books and lecture notes)  \\\n",
       "0                                                  1        \n",
       "1                                                  0        \n",
       "2                                                  0        \n",
       "3                                                  0        \n",
       "4                                                  0        \n",
       "\n",
       "   Study_Method_Solo(Online via video lectures)  \\\n",
       "0                                             1   \n",
       "1                                             1   \n",
       "2                                             1   \n",
       "3                                             1   \n",
       "4                                             1   \n",
       "\n",
       "   Study_Method_solo study with online lectures when needed   \n",
       "0                                                  0          \n",
       "1                                                  0          \n",
       "2                                                  0          \n",
       "3                                                  0          \n",
       "4                                                  0          "
      ]
     },
     "execution_count": 25,
     "metadata": {},
     "output_type": "execute_result"
    }
   ],
   "source": [
    "df['Study_Method'] = df['Study_Method'].str.split(', ')\n",
    "\n",
    "df_expanded = df.explode('Study_Method')\n",
    "\n",
    "df_encoded = pd.get_dummies(df_expanded, columns=['Study_Method'])\n",
    "\n",
    "df_final = df_encoded.groupby(df_encoded.index).sum()\n",
    "\n",
    "print(\"Final shape after encoding:\", df_final.shape)\n",
    "\n",
    "df_final.to_csv(\"cleaned_study_methods.csv\", index=False)\n",
    "\n",
    "df_final.head()\n"
   ]
  },
  {
   "cell_type": "code",
   "execution_count": 26,
   "metadata": {},
   "outputs": [],
   "source": [
    "from sklearn.preprocessing import StandardScaler\n",
    "\n",
    "scaler = StandardScaler()\n",
    "\n",
    "df[['Before']] = scaler.fit_transform(df[['Before']])"
   ]
  },
  {
   "cell_type": "code",
   "execution_count": 27,
   "metadata": {},
   "outputs": [
    {
     "name": "stdout",
     "output_type": "stream",
     "text": [
      "Before           0\n",
      "During           0\n",
      "Unnamed: 10    111\n",
      "dtype: int64\n"
     ]
    }
   ],
   "source": [
    "from sklearn.decomposition import PCA\n",
    "\n",
    "print(df_numeric.isnull().sum())  # Shows NaNs count per column\n",
    "\n",
    "\n",
    "pca = PCA(n_components=2)\n",
    "\n",
    "df_numeric = df.select_dtypes(include=['int64', 'float64'])\n",
    "# df_numeric = df.select_dtypes(include=['int64', 'float64'])\n",
    "\n",
    "# Replace NaN values with column-wise mean\n",
    "df_numeric = df_numeric.fillna(df_numeric.mean())\n",
    "\n",
    "df_pca = pca.fit_transform(df_numeric)"
   ]
  },
  {
   "cell_type": "code",
   "execution_count": 28,
   "metadata": {},
   "outputs": [],
   "source": [
    "from sklearn.cluster import KMeans\n",
    "\n",
    "kmeans = KMeans(n_clusters=5, random_state=42)\n",
    "\n",
    "df['Cluster'] = kmeans.fit_predict(df_pca)"
   ]
  },
  {
   "cell_type": "code",
   "execution_count": 29,
   "metadata": {},
   "outputs": [
    {
     "data": {
      "image/png": "[encoded data removed]",
      "text/plain": [
       "<Figure size 640x480 with 1 Axes>"
      ]
     },
     "metadata": {},
     "output_type": "display_data"
    }
   ],
   "source": [
    "from matplotlib import pyplot as plt\n",
    "\n",
    "plt.scatter(df_pca[:,0], df_pca[:,1], c=df['Cluster'])\n",
    "plt.title('Clusters of students')\n",
    "plt.show()"
   ]
  },
  {
   "cell_type": "code",
   "execution_count": 30,
   "metadata": {},
   "outputs": [
    {
     "data": {
      "text/plain": [
       "Cluster\n",
       "0      8.295909\n",
       "1    216.222500\n",
       "2      7.200000\n",
       "3      7.819286\n",
       "4      8.411250\n",
       "Name: CGPA, dtype: float64"
      ]
     },
     "execution_count": 30,
     "metadata": {},
     "output_type": "execute_result"
    }
   ],
   "source": [
    "df['CGPA'] = pd.to_numeric(df['CGPA'], errors='coerce')\n",
    "df.groupby('Cluster')['CGPA'].mean()\n",
    "\n"
   ]
  },
  {
   "cell_type": "code",
   "execution_count": 31,
   "metadata": {},
   "outputs": [
    {
     "data": {
      "image/png": "[encoded data removed]",
      "text/plain": [
       "<Figure size 640x480 with 2 Axes>"
      ]
     },
     "metadata": {},
     "output_type": "display_data"
    }
   ],
   "source": [
    "import matplotlib.pyplot as plt\n",
    "\n",
    "scatter = plt.scatter(df_pca[:, 0], df_pca[:, 1], c=df['Cluster'], cmap='viridis')\n",
    "plt.title('Clusters of students')\n",
    "\n",
    "# Add a color bar (legend for clusters)\n",
    "plt.colorbar(scatter, label=\"Cluster ID\")\n",
    "\n",
    "plt.show()\n"
   ]
  },
  {
   "cell_type": "code",
   "execution_count": 32,
   "metadata": {},
   "outputs": [
    {
     "data": {
      "image/png": "[encoded data removed]",
      "text/plain": [
       "<Figure size 640x480 with 2 Axes>"
      ]
     },
     "metadata": {},
     "output_type": "display_data"
    }
   ],
   "source": [
    "\n",
    "import matplotlib.pyplot as plt\n",
    "\n",
    "# Scatter plot with CGPA as color\n",
    "scatter = plt.scatter(df_pca[:, 0], df_pca[:, 1], c=df['CGPA'], cmap='viridis')\n",
    "\n",
    "plt.title('Clusters of students based on CGPA')\n",
    "\n",
    "# Add color bar for CGPA\n",
    "plt.colorbar(scatter, label=\"CGPA\")\n",
    "\n",
    "plt.show()\n"
   ]
  },
  {
   "cell_type": "code",
   "execution_count": 33,
   "metadata": {},
   "outputs": [
    {
     "data": {
      "text/plain": [
       "Cluster  Study_Method                                \n",
       "0        Solo(Online via video lectures)                 17\n",
       "         Solo(Offline via books and lecture notes)        9\n",
       "         Class lectures and notes only                    5\n",
       "         Friend teaches me                                1\n",
       "         I prefer both class notes                        1\n",
       "         solo study with online lectures when needed      1\n",
       "1        Solo(Online via video lectures)                 38\n",
       "         Solo(Offline via books and lecture notes)       21\n",
       "         Class lectures and notes only                   19\n",
       "         No study strategy                                1\n",
       "2        Solo(Online via video lectures)                  1\n",
       "3        Solo(Online via video lectures)                  7\n",
       "         Solo(Offline via books and lecture notes)        6\n",
       "         Class lectures and notes only                    4\n",
       "                                                          1\n",
       "4        Solo(Online via video lectures)                 17\n",
       "         Class lectures and notes only                    9\n",
       "         Solo(Offline via books and lecture notes)        7\n",
       "Name: count, dtype: int64"
      ]
     },
     "execution_count": 33,
     "metadata": {},
     "output_type": "execute_result"
    }
   ],
   "source": [
    "df_exploded = df.explode('Study_Method')\n",
    "#df_exploded\n",
    "df_exploded.groupby('Cluster')['Study_Method'].value_counts()\n"
   ]
  },
  {
   "cell_type": "code",
   "execution_count": 34,
   "metadata": {},
   "outputs": [
    {
     "data": {
      "text/plain": [
       "Study_Method\n",
       "Solo(Online via video lectures)                 136.222821\n",
       "No study strategy                                 9.800000\n",
       "Friend teaches me                                 8.300000\n",
       "Class lectures and notes only                     8.205556\n",
       "Solo(Offline via books and lecture notes)         8.048140\n",
       "                                                  8.010000\n",
       "I prefer both class notes                         7.610000\n",
       "solo study with online lectures when needed       7.610000\n",
       "Name: CGPA, dtype: float64"
      ]
     },
     "execution_count": 34,
     "metadata": {},
     "output_type": "execute_result"
    }
   ],
   "source": [
    "df_exploded = df.explode('Study_Method') \n",
    "df_exploded.groupby('Study_Method')['CGPA'].mean().sort_values(ascending=False)\n"
   ]
  },
  {
   "cell_type": "code",
   "execution_count": 35,
   "metadata": {},
   "outputs": [],
   "source": [
    "# for cluster_id in df['Cluster'].unique():\n",
    "#     subset = df[df['Cluster'] == cluster_id]\n",
    "#     plt.scatter(df_pca[:, 0], df_pca[:, 1], label=f\"Method {cluster_id}\")\n",
    "\n",
    "# plt.legend()\n",
    "# plt.show()\n"
   ]
  }
 ],
 "metadata": {
  "kernelspec": {
   "display_name": "Python 3",
   "language": "python",
   "name": "python3"
  },
  "language_info": {
   "codemirror_mode": {
    "name": "ipython",
    "version": 3
   },
   "file_extension": ".py",
   "mimetype": "text/x-python",
   "name": "python",
   "nbconvert_exporter": "python",
   "pygments_lexer": "ipython3",
   "version": "3.12.8"
  }
 },
 "nbformat": 4,
 "nbformat_minor": 2
}
